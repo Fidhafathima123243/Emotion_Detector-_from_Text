{
  "cells": [
    {
      "cell_type": "code",
      "execution_count": null,
      "id": "9d0b6e05",
      "metadata": {
        "id": "9d0b6e05"
      },
      "outputs": [
        {
          "name": "stderr",
          "output_type": "stream",
          "text": [
            "[nltk_data] Downloading package stopwords to\n",
            "[nltk_data]     C:\\Users\\fidha\\AppData\\Roaming\\nltk_data...\n",
            "[nltk_data]   Package stopwords is already up-to-date!\n",
            "[nltk_data] Downloading package wordnet to\n",
            "[nltk_data]     C:\\Users\\fidha\\AppData\\Roaming\\nltk_data...\n",
            "[nltk_data]   Package wordnet is already up-to-date!\n",
            "[nltk_data] Downloading package omw-1.4 to\n",
            "[nltk_data]     C:\\Users\\fidha\\AppData\\Roaming\\nltk_data...\n",
            "[nltk_data]   Package omw-1.4 is already up-to-date!\n"
          ]
        }
      ],
      "source": [
        "import pandas as pd\n",
        "import numpy as np\n",
        "import seaborn as sns\n",
        "import matplotlib.pyplot as plt\n",
        "from sklearn.preprocessing import LabelEncoder\n",
        "import string\n",
        "import nltk\n",
        "nltk.download('stopwords')\n",
        "nltk.download('wordnet')\n",
        "nltk.download('omw-1.4') \n",
        "from nltk.corpus import stopwords\n",
        "from nltk.stem import WordNetLemmatizer\n",
        "import swifter\n",
        "from sklearn.feature_extraction.text import TfidfVectorizer\n",
        "from sklearn.model_selection import train_test_split\n",
        "from sklearn.svm import SVC\n",
        "from sklearn.naive_bayes import MultinomialNB\n",
        "from sklearn.ensemble import RandomForestClassifier\n",
        "from sklearn.linear_model import LogisticRegression\n",
        "from xgboost import XGBClassifier\n",
        "from sklearn.metrics import classification_report,confusion_matrix,accuracy_score\n",
        "from imblearn.over_sampling import SMOTE\n",
        "from sklearn.model_selection import cross_val_score"
      ]
    },
    {
      "cell_type": "code",
      "execution_count": 53,
      "id": "22e271a1",
      "metadata": {
        "id": "22e271a1"
      },
      "outputs": [],
      "source": [
        "df=pd.read_csv(r'C:\\Users\\fidha\\Documents\\Data_Science_Luminar\\MAIN_PROJECTS\\NLP\\EMOTION_DETECTION\\emotion_sentimen_dataset.csv')"
      ]
    },
    {
      "cell_type": "code",
      "execution_count": 54,
      "id": "d12af41a",
      "metadata": {
        "colab": {
          "base_uri": "https://localhost:8080/",
          "height": 206
        },
        "id": "d12af41a",
        "outputId": "edcb58f4-0867-4972-a050-c24a7425c575"
      },
      "outputs": [
        {
          "data": {
            "text/html": [
              "<div>\n",
              "<style scoped>\n",
              "    .dataframe tbody tr th:only-of-type {\n",
              "        vertical-align: middle;\n",
              "    }\n",
              "\n",
              "    .dataframe tbody tr th {\n",
              "        vertical-align: top;\n",
              "    }\n",
              "\n",
              "    .dataframe thead th {\n",
              "        text-align: right;\n",
              "    }\n",
              "</style>\n",
              "<table border=\"1\" class=\"dataframe\">\n",
              "  <thead>\n",
              "    <tr style=\"text-align: right;\">\n",
              "      <th></th>\n",
              "      <th>Unnamed: 0</th>\n",
              "      <th>text</th>\n",
              "      <th>Emotion</th>\n",
              "    </tr>\n",
              "  </thead>\n",
              "  <tbody>\n",
              "    <tr>\n",
              "      <th>0</th>\n",
              "      <td>0</td>\n",
              "      <td>i seriously hate one subject to death but now ...</td>\n",
              "      <td>hate</td>\n",
              "    </tr>\n",
              "    <tr>\n",
              "      <th>1</th>\n",
              "      <td>1</td>\n",
              "      <td>im so full of life i feel appalled</td>\n",
              "      <td>neutral</td>\n",
              "    </tr>\n",
              "    <tr>\n",
              "      <th>2</th>\n",
              "      <td>2</td>\n",
              "      <td>i sit here to write i start to dig out my feel...</td>\n",
              "      <td>neutral</td>\n",
              "    </tr>\n",
              "    <tr>\n",
              "      <th>3</th>\n",
              "      <td>3</td>\n",
              "      <td>ive been really angry with r and i feel like a...</td>\n",
              "      <td>anger</td>\n",
              "    </tr>\n",
              "    <tr>\n",
              "      <th>4</th>\n",
              "      <td>4</td>\n",
              "      <td>i feel suspicious if there is no one outside l...</td>\n",
              "      <td>neutral</td>\n",
              "    </tr>\n",
              "  </tbody>\n",
              "</table>\n",
              "</div>"
            ],
            "text/plain": [
              "   Unnamed: 0                                               text  Emotion\n",
              "0           0  i seriously hate one subject to death but now ...     hate\n",
              "1           1                 im so full of life i feel appalled  neutral\n",
              "2           2  i sit here to write i start to dig out my feel...  neutral\n",
              "3           3  ive been really angry with r and i feel like a...    anger\n",
              "4           4  i feel suspicious if there is no one outside l...  neutral"
            ]
          },
          "execution_count": 54,
          "metadata": {},
          "output_type": "execute_result"
        }
      ],
      "source": [
        "df.head()"
      ]
    },
    {
      "cell_type": "code",
      "execution_count": 55,
      "id": "15169a0c",
      "metadata": {
        "colab": {
          "base_uri": "https://localhost:8080/",
          "height": 206
        },
        "id": "15169a0c",
        "outputId": "fc2687e5-d97c-461a-87a4-f714e5f95fb3"
      },
      "outputs": [
        {
          "data": {
            "text/html": [
              "<div>\n",
              "<style scoped>\n",
              "    .dataframe tbody tr th:only-of-type {\n",
              "        vertical-align: middle;\n",
              "    }\n",
              "\n",
              "    .dataframe tbody tr th {\n",
              "        vertical-align: top;\n",
              "    }\n",
              "\n",
              "    .dataframe thead th {\n",
              "        text-align: right;\n",
              "    }\n",
              "</style>\n",
              "<table border=\"1\" class=\"dataframe\">\n",
              "  <thead>\n",
              "    <tr style=\"text-align: right;\">\n",
              "      <th></th>\n",
              "      <th>Unnamed: 0</th>\n",
              "      <th>text</th>\n",
              "      <th>Emotion</th>\n",
              "    </tr>\n",
              "  </thead>\n",
              "  <tbody>\n",
              "    <tr>\n",
              "      <th>839550</th>\n",
              "      <td>839550</td>\n",
              "      <td>i feel like telling these horny devils to find...</td>\n",
              "      <td>neutral</td>\n",
              "    </tr>\n",
              "    <tr>\n",
              "      <th>839551</th>\n",
              "      <td>839551</td>\n",
              "      <td>i began to realize that when i was feeling agi...</td>\n",
              "      <td>neutral</td>\n",
              "    </tr>\n",
              "    <tr>\n",
              "      <th>839552</th>\n",
              "      <td>839552</td>\n",
              "      <td>i feel very curious be why previous early dawn...</td>\n",
              "      <td>neutral</td>\n",
              "    </tr>\n",
              "    <tr>\n",
              "      <th>839553</th>\n",
              "      <td>839553</td>\n",
              "      <td>i feel that becuase of the tyranical nature of...</td>\n",
              "      <td>neutral</td>\n",
              "    </tr>\n",
              "    <tr>\n",
              "      <th>839554</th>\n",
              "      <td>839554</td>\n",
              "      <td>i think that after i had spent some time inves...</td>\n",
              "      <td>neutral</td>\n",
              "    </tr>\n",
              "  </tbody>\n",
              "</table>\n",
              "</div>"
            ],
            "text/plain": [
              "        Unnamed: 0                                               text  Emotion\n",
              "839550      839550  i feel like telling these horny devils to find...  neutral\n",
              "839551      839551  i began to realize that when i was feeling agi...  neutral\n",
              "839552      839552  i feel very curious be why previous early dawn...  neutral\n",
              "839553      839553  i feel that becuase of the tyranical nature of...  neutral\n",
              "839554      839554  i think that after i had spent some time inves...  neutral"
            ]
          },
          "execution_count": 55,
          "metadata": {},
          "output_type": "execute_result"
        }
      ],
      "source": [
        "df.tail()"
      ]
    },
    {
      "cell_type": "code",
      "execution_count": 56,
      "id": "7c706a22",
      "metadata": {},
      "outputs": [
        {
          "data": {
            "text/plain": [
              "Index(['Unnamed: 0', 'text', 'Emotion'], dtype='object')"
            ]
          },
          "execution_count": 56,
          "metadata": {},
          "output_type": "execute_result"
        }
      ],
      "source": [
        "df.columns"
      ]
    },
    {
      "cell_type": "code",
      "execution_count": 57,
      "id": "3a73c2c0",
      "metadata": {
        "colab": {
          "base_uri": "https://localhost:8080/"
        },
        "id": "3a73c2c0",
        "outputId": "598c9d6d-1f9d-4e5e-b956-a6dd3aa33fc6"
      },
      "outputs": [
        {
          "data": {
            "text/plain": [
              "(839555, 3)"
            ]
          },
          "execution_count": 57,
          "metadata": {},
          "output_type": "execute_result"
        }
      ],
      "source": [
        "df.shape"
      ]
    },
    {
      "cell_type": "code",
      "execution_count": 58,
      "id": "91338e83",
      "metadata": {
        "id": "91338e83"
      },
      "outputs": [],
      "source": [
        "df.drop(columns=['Unnamed: 0'],inplace=True)"
      ]
    },
    {
      "cell_type": "code",
      "execution_count": 59,
      "id": "300ca24c",
      "metadata": {
        "colab": {
          "base_uri": "https://localhost:8080/"
        },
        "id": "300ca24c",
        "outputId": "2e74ff5b-0540-4265-f378-3e6b2da4c65b"
      },
      "outputs": [
        {
          "data": {
            "text/plain": [
              "Index(['text', 'Emotion'], dtype='object')"
            ]
          },
          "execution_count": 59,
          "metadata": {},
          "output_type": "execute_result"
        }
      ],
      "source": [
        "df.columns"
      ]
    },
    {
      "cell_type": "markdown",
      "id": "024a45cc",
      "metadata": {},
      "source": [
        "Data Cleaning"
      ]
    },
    {
      "cell_type": "code",
      "execution_count": 60,
      "id": "f1b00edc",
      "metadata": {
        "colab": {
          "base_uri": "https://localhost:8080/",
          "height": 146
        },
        "id": "f1b00edc",
        "outputId": "226691c7-6551-4b02-e360-f931b3fcd543"
      },
      "outputs": [
        {
          "data": {
            "text/plain": [
              "text       0\n",
              "Emotion    0\n",
              "dtype: int64"
            ]
          },
          "execution_count": 60,
          "metadata": {},
          "output_type": "execute_result"
        }
      ],
      "source": [
        "df.isna().sum()"
      ]
    },
    {
      "cell_type": "code",
      "execution_count": 61,
      "id": "9005b0a2",
      "metadata": {
        "colab": {
          "base_uri": "https://localhost:8080/"
        },
        "id": "9005b0a2",
        "outputId": "b0ffbbc8-ecd0-471f-8be1-4a04d7a16c70"
      },
      "outputs": [
        {
          "data": {
            "text/plain": [
              "np.int64(445733)"
            ]
          },
          "execution_count": 61,
          "metadata": {},
          "output_type": "execute_result"
        }
      ],
      "source": [
        "df.duplicated().sum()"
      ]
    },
    {
      "cell_type": "code",
      "execution_count": 62,
      "id": "1aca3bd9",
      "metadata": {
        "id": "1aca3bd9"
      },
      "outputs": [],
      "source": [
        "df.drop_duplicates(inplace=True)"
      ]
    },
    {
      "cell_type": "code",
      "execution_count": 63,
      "id": "07276999",
      "metadata": {
        "colab": {
          "base_uri": "https://localhost:8080/"
        },
        "id": "07276999",
        "outputId": "a9a09b0f-4a94-4691-d59c-5389fdf2a9d8"
      },
      "outputs": [
        {
          "data": {
            "text/plain": [
              "(393822, 2)"
            ]
          },
          "execution_count": 63,
          "metadata": {},
          "output_type": "execute_result"
        }
      ],
      "source": [
        "df.shape"
      ]
    },
    {
      "cell_type": "code",
      "execution_count": 64,
      "id": "1a740403",
      "metadata": {
        "colab": {
          "base_uri": "https://localhost:8080/",
          "height": 523
        },
        "id": "1a740403",
        "outputId": "ffac6fa1-80a1-4742-863b-c5c218be6e92"
      },
      "outputs": [
        {
          "data": {
            "text/plain": [
              "Emotion\n",
              "neutral       316935\n",
              "love           17634\n",
              "happiness      13038\n",
              "sadness         8485\n",
              "relief          8007\n",
              "hate            6160\n",
              "anger           5952\n",
              "fun             4854\n",
              "enthusiasm      4497\n",
              "surprise        3430\n",
              "empty           2697\n",
              "worry           2072\n",
              "boredom           61\n",
              "Name: count, dtype: int64"
            ]
          },
          "execution_count": 64,
          "metadata": {},
          "output_type": "execute_result"
        }
      ],
      "source": [
        "df['Emotion'].value_counts()"
      ]
    },
    {
      "cell_type": "markdown",
      "id": "b11f6f32",
      "metadata": {},
      "source": [
        "Sampling"
      ]
    },
    {
      "cell_type": "code",
      "execution_count": 65,
      "id": "fc31c39b",
      "metadata": {
        "id": "fc31c39b"
      },
      "outputs": [],
      "source": [
        "df=df.sample(20000,random_state=42)"
      ]
    },
    {
      "cell_type": "code",
      "execution_count": 66,
      "id": "98cade06",
      "metadata": {
        "colab": {
          "base_uri": "https://localhost:8080/",
          "height": 523
        },
        "id": "98cade06",
        "outputId": "a09fc30b-0a48-4852-bf1d-503889238cb1"
      },
      "outputs": [
        {
          "data": {
            "text/plain": [
              "Emotion\n",
              "neutral       16015\n",
              "love            948\n",
              "happiness       657\n",
              "relief          407\n",
              "sadness         403\n",
              "hate            332\n",
              "anger           300\n",
              "enthusiasm      258\n",
              "fun             233\n",
              "surprise        182\n",
              "empty           152\n",
              "worry           111\n",
              "boredom           2\n",
              "Name: count, dtype: int64"
            ]
          },
          "execution_count": 66,
          "metadata": {},
          "output_type": "execute_result"
        }
      ],
      "source": [
        "df['Emotion'].value_counts()"
      ]
    },
    {
      "cell_type": "markdown",
      "id": "48b1de76",
      "metadata": {},
      "source": [
        "Encoding"
      ]
    },
    {
      "cell_type": "code",
      "execution_count": 67,
      "id": "3929e500",
      "metadata": {
        "id": "3929e500"
      },
      "outputs": [],
      "source": [
        "le=LabelEncoder()\n",
        "df['Emotion']=le.fit_transform(df['Emotion'])"
      ]
    },
    {
      "cell_type": "code",
      "execution_count": 68,
      "id": "99186f9b",
      "metadata": {
        "colab": {
          "base_uri": "https://localhost:8080/",
          "height": 458
        },
        "id": "99186f9b",
        "outputId": "6e9c8f24-520b-4b23-ae00-850d308cf183"
      },
      "outputs": [
        {
          "data": {
            "text/plain": [
              "63994     8\n",
              "180138    8\n",
              "403699    8\n",
              "235962    9\n",
              "349093    8\n",
              "         ..\n",
              "207792    9\n",
              "415576    8\n",
              "350011    3\n",
              "399738    8\n",
              "86908     8\n",
              "Name: Emotion, Length: 20000, dtype: int64"
            ]
          },
          "execution_count": 68,
          "metadata": {},
          "output_type": "execute_result"
        }
      ],
      "source": [
        "df['Emotion']"
      ]
    },
    {
      "cell_type": "code",
      "execution_count": 69,
      "id": "1c92dfd1",
      "metadata": {
        "colab": {
          "base_uri": "https://localhost:8080/"
        },
        "id": "1c92dfd1",
        "outputId": "8939ce61-58b9-4452-b59c-41b9115ee072"
      },
      "outputs": [
        {
          "data": {
            "text/plain": [
              "array(['anger', 'boredom', 'empty', 'enthusiasm', 'fun', 'happiness',\n",
              "       'hate', 'love', 'neutral', 'relief', 'sadness', 'surprise',\n",
              "       'worry'], dtype=object)"
            ]
          },
          "execution_count": 69,
          "metadata": {},
          "output_type": "execute_result"
        }
      ],
      "source": [
        "le.inverse_transform([0,1,2,3,4,5,6,7,8,9,10,11,12])"
      ]
    },
    {
      "cell_type": "code",
      "execution_count": 70,
      "id": "b7634201",
      "metadata": {
        "colab": {
          "base_uri": "https://localhost:8080/",
          "height": 423
        },
        "id": "b7634201",
        "outputId": "cf54a1c5-0049-49ae-93a4-5fe6936fb1f1"
      },
      "outputs": [
        {
          "data": {
            "text/html": [
              "<div>\n",
              "<style scoped>\n",
              "    .dataframe tbody tr th:only-of-type {\n",
              "        vertical-align: middle;\n",
              "    }\n",
              "\n",
              "    .dataframe tbody tr th {\n",
              "        vertical-align: top;\n",
              "    }\n",
              "\n",
              "    .dataframe thead th {\n",
              "        text-align: right;\n",
              "    }\n",
              "</style>\n",
              "<table border=\"1\" class=\"dataframe\">\n",
              "  <thead>\n",
              "    <tr style=\"text-align: right;\">\n",
              "      <th></th>\n",
              "      <th>text</th>\n",
              "      <th>Emotion</th>\n",
              "    </tr>\n",
              "  </thead>\n",
              "  <tbody>\n",
              "    <tr>\n",
              "      <th>63994</th>\n",
              "      <td>i feel so weird when im in town</td>\n",
              "      <td>8</td>\n",
              "    </tr>\n",
              "    <tr>\n",
              "      <th>180138</th>\n",
              "      <td>i should get rid of it wow really feeling thre...</td>\n",
              "      <td>8</td>\n",
              "    </tr>\n",
              "    <tr>\n",
              "      <th>403699</th>\n",
              "      <td>i set about getting myself together to do the ...</td>\n",
              "      <td>8</td>\n",
              "    </tr>\n",
              "    <tr>\n",
              "      <th>235962</th>\n",
              "      <td>i do not mean to insult or offend anyone so if...</td>\n",
              "      <td>9</td>\n",
              "    </tr>\n",
              "    <tr>\n",
              "      <th>349093</th>\n",
              "      <td>i feel a bit disheartened reading the nanowrim...</td>\n",
              "      <td>8</td>\n",
              "    </tr>\n",
              "    <tr>\n",
              "      <th>...</th>\n",
              "      <td>...</td>\n",
              "      <td>...</td>\n",
              "    </tr>\n",
              "    <tr>\n",
              "      <th>207792</th>\n",
              "      <td>i really want to say is how very pleased i am ...</td>\n",
              "      <td>9</td>\n",
              "    </tr>\n",
              "    <tr>\n",
              "      <th>415576</th>\n",
              "      <td>i have this feeling of having resolved a tiny ...</td>\n",
              "      <td>8</td>\n",
              "    </tr>\n",
              "    <tr>\n",
              "      <th>350011</th>\n",
              "      <td>i got all excited about the feel and flow of a...</td>\n",
              "      <td>3</td>\n",
              "    </tr>\n",
              "    <tr>\n",
              "      <th>399738</th>\n",
              "      <td>i feel very horny</td>\n",
              "      <td>8</td>\n",
              "    </tr>\n",
              "    <tr>\n",
              "      <th>86908</th>\n",
              "      <td>i really do feel like i ve gone back in time t...</td>\n",
              "      <td>8</td>\n",
              "    </tr>\n",
              "  </tbody>\n",
              "</table>\n",
              "<p>20000 rows × 2 columns</p>\n",
              "</div>"
            ],
            "text/plain": [
              "                                                     text  Emotion\n",
              "63994                     i feel so weird when im in town        8\n",
              "180138  i should get rid of it wow really feeling thre...        8\n",
              "403699  i set about getting myself together to do the ...        8\n",
              "235962  i do not mean to insult or offend anyone so if...        9\n",
              "349093  i feel a bit disheartened reading the nanowrim...        8\n",
              "...                                                   ...      ...\n",
              "207792  i really want to say is how very pleased i am ...        9\n",
              "415576  i have this feeling of having resolved a tiny ...        8\n",
              "350011  i got all excited about the feel and flow of a...        3\n",
              "399738                                  i feel very horny        8\n",
              "86908   i really do feel like i ve gone back in time t...        8\n",
              "\n",
              "[20000 rows x 2 columns]"
            ]
          },
          "execution_count": 70,
          "metadata": {},
          "output_type": "execute_result"
        }
      ],
      "source": [
        "df"
      ]
    },
    {
      "cell_type": "code",
      "execution_count": 71,
      "id": "864a8703",
      "metadata": {
        "id": "864a8703"
      },
      "outputs": [],
      "source": [
        "df.reset_index(drop=True,inplace=True)"
      ]
    },
    {
      "cell_type": "markdown",
      "id": "97f50edb",
      "metadata": {},
      "source": [
        "Text Preprocessing"
      ]
    },
    {
      "cell_type": "code",
      "execution_count": 72,
      "id": "d43d96ba",
      "metadata": {
        "id": "d43d96ba"
      },
      "outputs": [],
      "source": [
        "stop = set(stopwords.words('english'))\n",
        "lemmatizer = WordNetLemmatizer()\n",
        "\n",
        "def preprocess(sentence):\n",
        "    sentence = sentence.lower()\n",
        "    sentence = ''.join([char for char in sentence if char not in string.punctuation])\n",
        "    tokens = sentence.split()\n",
        "    tokens_without_stop = [word for word in tokens if word not in stop]\n",
        "    lemmatized_data = [lemmatizer.lemmatize(word, 'v') for word in tokens_without_stop]\n",
        "    return ' '.join(lemmatized_data)"
      ]
    },
    {
      "cell_type": "code",
      "execution_count": 73,
      "id": "3eb3889f",
      "metadata": {
        "colab": {
          "base_uri": "https://localhost:8080/"
        },
        "id": "3eb3889f",
        "outputId": "289e8abf-e09e-41ad-e006-de9334eb8a5a"
      },
      "outputs": [
        {
          "name": "stdout",
          "output_type": "stream",
          "text": [
            "Defaulting to user installation because normal site-packages is not writeable\n",
            "Requirement already satisfied: swifter in c:\\users\\fidha\\appdata\\roaming\\python\\python39\\site-packages (1.4.0)\n",
            "Requirement already satisfied: pandas>=1.0.0 in c:\\users\\fidha\\appdata\\roaming\\python\\python39\\site-packages (from swifter) (2.3.0)\n",
            "Requirement already satisfied: psutil>=5.6.6 in c:\\users\\fidha\\appdata\\roaming\\python\\python39\\site-packages (from swifter) (7.0.0)\n",
            "Requirement already satisfied: dask[dataframe]>=2.10.0 in c:\\users\\fidha\\appdata\\roaming\\python\\python39\\site-packages (from swifter) (2024.8.0)\n",
            "Requirement already satisfied: tqdm>=4.33.0 in c:\\users\\fidha\\appdata\\roaming\\python\\python39\\site-packages (from swifter) (4.67.1)\n",
            "Requirement already satisfied: toolz>=0.10.0 in c:\\users\\fidha\\appdata\\roaming\\python\\python39\\site-packages (from dask[dataframe]>=2.10.0->swifter) (1.0.0)\n",
            "Requirement already satisfied: pyyaml>=5.3.1 in c:\\users\\fidha\\appdata\\roaming\\python\\python39\\site-packages (from dask[dataframe]>=2.10.0->swifter) (6.0.2)\n",
            "Requirement already satisfied: cloudpickle>=1.5.0 in c:\\users\\fidha\\appdata\\roaming\\python\\python39\\site-packages (from dask[dataframe]>=2.10.0->swifter) (3.1.1)\n",
            "Requirement already satisfied: importlib-metadata>=4.13.0 in c:\\users\\fidha\\appdata\\roaming\\python\\python39\\site-packages (from dask[dataframe]>=2.10.0->swifter) (8.7.0)\n",
            "Requirement already satisfied: fsspec>=2021.09.0 in c:\\users\\fidha\\appdata\\roaming\\python\\python39\\site-packages (from dask[dataframe]>=2.10.0->swifter) (2025.5.1)\n",
            "Requirement already satisfied: click>=8.1 in c:\\users\\fidha\\appdata\\roaming\\python\\python39\\site-packages (from dask[dataframe]>=2.10.0->swifter) (8.1.8)\n",
            "Requirement already satisfied: partd>=1.4.0 in c:\\users\\fidha\\appdata\\roaming\\python\\python39\\site-packages (from dask[dataframe]>=2.10.0->swifter) (1.4.2)\n",
            "Requirement already satisfied: packaging>=20.0 in c:\\users\\fidha\\appdata\\roaming\\python\\python39\\site-packages (from dask[dataframe]>=2.10.0->swifter) (25.0)\n",
            "Requirement already satisfied: dask-expr<1.2,>=1.1 in c:\\users\\fidha\\appdata\\roaming\\python\\python39\\site-packages (from dask[dataframe]>=2.10.0->swifter) (1.1.10)\n",
            "Requirement already satisfied: colorama in c:\\users\\fidha\\appdata\\roaming\\python\\python39\\site-packages (from click>=8.1->dask[dataframe]>=2.10.0->swifter) (0.4.6)\n",
            "Requirement already satisfied: pyarrow>=7.0.0 in c:\\users\\fidha\\appdata\\roaming\\python\\python39\\site-packages (from dask-expr<1.2,>=1.1->dask[dataframe]>=2.10.0->swifter) (20.0.0)\n",
            "Requirement already satisfied: zipp>=3.20 in c:\\users\\fidha\\appdata\\roaming\\python\\python39\\site-packages (from importlib-metadata>=4.13.0->dask[dataframe]>=2.10.0->swifter) (3.22.0)\n",
            "Requirement already satisfied: pytz>=2020.1 in c:\\users\\fidha\\appdata\\roaming\\python\\python39\\site-packages (from pandas>=1.0.0->swifter) (2025.2)\n",
            "Requirement already satisfied: python-dateutil>=2.8.2 in c:\\users\\fidha\\appdata\\roaming\\python\\python39\\site-packages (from pandas>=1.0.0->swifter) (2.9.0.post0)\n",
            "Requirement already satisfied: numpy>=1.22.4 in c:\\users\\fidha\\appdata\\roaming\\python\\python39\\site-packages (from pandas>=1.0.0->swifter) (1.26.4)\n",
            "Requirement already satisfied: tzdata>=2022.7 in c:\\users\\fidha\\appdata\\roaming\\python\\python39\\site-packages (from pandas>=1.0.0->swifter) (2025.2)\n",
            "Requirement already satisfied: locket in c:\\users\\fidha\\appdata\\roaming\\python\\python39\\site-packages (from partd>=1.4.0->dask[dataframe]>=2.10.0->swifter) (1.0.0)\n",
            "Requirement already satisfied: six>=1.5 in c:\\users\\fidha\\appdata\\roaming\\python\\python39\\site-packages (from python-dateutil>=2.8.2->pandas>=1.0.0->swifter) (1.17.0)\n"
          ]
        },
        {
          "name": "stderr",
          "output_type": "stream",
          "text": [
            "WARNING: You are using pip version 21.1.3; however, version 25.1.1 is available.\n",
            "You should consider upgrading via the 'c:\\program files\\python39\\python.exe -m pip install --upgrade pip' command.\n"
          ]
        }
      ],
      "source": [
        "!pip install swifter"
      ]
    },
    {
      "cell_type": "code",
      "execution_count": null,
      "id": "87c58d8e",
      "metadata": {
        "colab": {
          "base_uri": "https://localhost:8080/",
          "height": 49,
          "referenced_widgets": [
            "7344b77641154e62a9c66d7b3efa84fa",
            "dcd400168fce4e09a0c1065c14bd02ef",
            "3141b3c2977e4397b99466bff015b30d",
            "83437bc59d9045888a36e06742de362c",
            "274057b740e0429fa2bcc8561d29b25a",
            "4a782038ff1d4c9183cd028109fc9c0d",
            "c543daf19b7543fd9a8b8826e7f93be3",
            "2256b20f3df144159a33272acb530f0c",
            "27c1211faa814eb99e7af6b702cddeb8",
            "6e1a9092909f4ca08b15aaaa3d17024a",
            "d289036821144427b95fd7330bebcf93"
          ]
        },
        "id": "87c58d8e",
        "outputId": "52f92b64-3cfe-4232-a64b-e6da501fc513"
      },
      "outputs": [
        {
          "name": "stderr",
          "output_type": "stream",
          "text": [
            "Pandas Apply: 100%|██████████| 20000/20000 [00:01<00:00, 14907.51it/s]\n"
          ]
        }
      ],
      "source": [
        "x= df['text'].swifter.apply(preprocess)\n",
        "y= df['Emotion']"
      ]
    },
    {
      "cell_type": "markdown",
      "id": "6596bce7",
      "metadata": {},
      "source": [
        "Vectorization"
      ]
    },
    {
      "cell_type": "code",
      "execution_count": 75,
      "id": "b85fd611",
      "metadata": {
        "id": "b85fd611"
      },
      "outputs": [],
      "source": [
        "vectorizer = TfidfVectorizer(stop_words='english', max_features=5000)\n",
        "x_vector = vectorizer.fit_transform(df['text'])"
      ]
    },
    {
      "cell_type": "code",
      "execution_count": 76,
      "id": "52a3c1dd",
      "metadata": {
        "colab": {
          "base_uri": "https://localhost:8080/"
        },
        "id": "52a3c1dd",
        "outputId": "0cee5a4a-aa41-492e-aa5c-1514661147b8"
      },
      "outputs": [
        {
          "data": {
            "text/plain": [
              "<Compressed Sparse Row sparse matrix of dtype 'float64'\n",
              "\twith 148025 stored elements and shape (20000, 5000)>"
            ]
          },
          "execution_count": 76,
          "metadata": {},
          "output_type": "execute_result"
        }
      ],
      "source": [
        "x_vector"
      ]
    },
    {
      "cell_type": "markdown",
      "id": "587b383a",
      "metadata": {},
      "source": [
        "Train-Test splitting"
      ]
    },
    {
      "cell_type": "code",
      "execution_count": 77,
      "id": "5ed45870",
      "metadata": {
        "id": "5ed45870"
      },
      "outputs": [],
      "source": [
        "x_train,x_test,y_train,y_test=train_test_split(x_vector,y,test_size=0.3,random_state=42)"
      ]
    },
    {
      "cell_type": "code",
      "execution_count": 78,
      "id": "65f9257e",
      "metadata": {
        "colab": {
          "base_uri": "https://localhost:8080/"
        },
        "id": "65f9257e",
        "outputId": "edb6d471-3c72-427d-f6e3-0607716f97c3"
      },
      "outputs": [
        {
          "name": "stdout",
          "output_type": "stream",
          "text": [
            "(20000, 5000)\n"
          ]
        }
      ],
      "source": [
        "print(x_vector.shape)"
      ]
    },
    {
      "cell_type": "markdown",
      "id": "da88abe1",
      "metadata": {},
      "source": [
        "Model Training"
      ]
    },
    {
      "cell_type": "code",
      "execution_count": 79,
      "id": "c84ec5a5",
      "metadata": {
        "colab": {
          "base_uri": "https://localhost:8080/",
          "height": 1000
        },
        "id": "c84ec5a5",
        "outputId": "bbd80712-c0b4-4318-c0f6-ce96deb32d07"
      },
      "outputs": [
        {
          "name": "stdout",
          "output_type": "stream",
          "text": [
            "SVC()\n",
            "--------------------\n",
            "94.33333333333334\n",
            "[[  62    0    0    0    0    0    0   39    0    0    0    0]\n",
            " [   0    1    0    0    0    2    2   43    2    1    0    0]\n",
            " [   0    0   57    0    0    0    0    6    0    0    0    0]\n",
            " [   0    0    0   45    0    0    0   23    0    0    0    0]\n",
            " [   0    0    0    0  158    0    0   42    1    0    0    0]\n",
            " [   0    0    0    0    0   58    0   27    1    0    0    0]\n",
            " [   1    0    0    1    1    2  240   24    0    0    0    0]\n",
            " [   0    3    0    0    0    0    0 4818    1    0    0    0]\n",
            " [   0    0    0    0    0    0    0   54   68    0    0    0]\n",
            " [   0    0    1    0    2    0    1   20    0   96    1    0]\n",
            " [   0    0    0    0    1    0    2   12    0    0   44    0]\n",
            " [   0    0    0    0    1    0    0   23    0    0    0   13]]\n",
            "              precision    recall  f1-score   support\n",
            "\n",
            "           0       0.98      0.61      0.76       101\n",
            "           2       0.25      0.02      0.04        51\n",
            "           3       0.98      0.90      0.94        63\n",
            "           4       0.98      0.66      0.79        68\n",
            "           5       0.97      0.79      0.87       201\n",
            "           6       0.94      0.67      0.78        86\n",
            "           7       0.98      0.89      0.93       269\n",
            "           8       0.94      1.00      0.97      4822\n",
            "           9       0.93      0.56      0.70       122\n",
            "          10       0.99      0.79      0.88       121\n",
            "          11       0.98      0.75      0.85        59\n",
            "          12       1.00      0.35      0.52        37\n",
            "\n",
            "    accuracy                           0.94      6000\n",
            "   macro avg       0.91      0.67      0.75      6000\n",
            "weighted avg       0.94      0.94      0.94      6000\n",
            "\n"
          ]
        },
        {
          "data": {
            "image/png": "[encoded data removed]",
            "text/plain": [
              "<Figure size 640x480 with 2 Axes>"
            ]
          },
          "metadata": {},
          "output_type": "display_data"
        },
        {
          "name": "stdout",
          "output_type": "stream",
          "text": [
            "MultinomialNB()\n",
            "--------------------\n",
            "80.96666666666667\n",
            "[[   0    0    0    0    0    0    0  101    0    0    0    0]\n",
            " [   0    0    0    0    0    0    0   51    0    0    0    0]\n",
            " [   0    0    1    0    0    0    0   62    0    0    0    0]\n",
            " [   0    0    0    0    0    0    0   68    0    0    0    0]\n",
            " [   0    0    0    0    7    0    0  194    0    0    0    0]\n",
            " [   0    0    0    0    0    1    0   85    0    0    0    0]\n",
            " [   0    0    0    0    0    0   23  246    0    0    0    0]\n",
            " [   0    0    0    0    0    0    0 4822    0    0    0    0]\n",
            " [   0    0    0    0    0    0    0  120    2    0    0    0]\n",
            " [   0    0    0    0    1    0    0  118    0    2    0    0]\n",
            " [   0    0    0    0    0    0    0   59    0    0    0    0]\n",
            " [   0    0    0    0    0    0    0   37    0    0    0    0]]\n",
            "              precision    recall  f1-score   support\n",
            "\n",
            "           0       0.00      0.00      0.00       101\n",
            "           2       0.00      0.00      0.00        51\n",
            "           3       1.00      0.02      0.03        63\n",
            "           4       0.00      0.00      0.00        68\n",
            "           5       0.88      0.03      0.07       201\n",
            "           6       1.00      0.01      0.02        86\n",
            "           7       1.00      0.09      0.16       269\n",
            "           8       0.81      1.00      0.89      4822\n",
            "           9       1.00      0.02      0.03       122\n",
            "          10       1.00      0.02      0.03       121\n",
            "          11       0.00      0.00      0.00        59\n",
            "          12       0.00      0.00      0.00        37\n",
            "\n",
            "    accuracy                           0.81      6000\n",
            "   macro avg       0.56      0.10      0.10      6000\n",
            "weighted avg       0.79      0.81      0.73      6000\n",
            "\n"
          ]
        },
        {
          "name": "stderr",
          "output_type": "stream",
          "text": [
            "c:\\Users\\fidha\\AppData\\Local\\Programs\\Python\\Python312\\Lib\\site-packages\\sklearn\\metrics\\_classification.py:1565: UndefinedMetricWarning: Precision is ill-defined and being set to 0.0 in labels with no predicted samples. Use `zero_division` parameter to control this behavior.\n",
            "  _warn_prf(average, modifier, f\"{metric.capitalize()} is\", len(result))\n",
            "c:\\Users\\fidha\\AppData\\Local\\Programs\\Python\\Python312\\Lib\\site-packages\\sklearn\\metrics\\_classification.py:1565: UndefinedMetricWarning: Precision is ill-defined and being set to 0.0 in labels with no predicted samples. Use `zero_division` parameter to control this behavior.\n",
            "  _warn_prf(average, modifier, f\"{metric.capitalize()} is\", len(result))\n",
            "c:\\Users\\fidha\\AppData\\Local\\Programs\\Python\\Python312\\Lib\\site-packages\\sklearn\\metrics\\_classification.py:1565: UndefinedMetricWarning: Precision is ill-defined and being set to 0.0 in labels with no predicted samples. Use `zero_division` parameter to control this behavior.\n",
            "  _warn_prf(average, modifier, f\"{metric.capitalize()} is\", len(result))\n"
          ]
        },
        {
          "data": {
            "image/png": "[encoded data removed]",
            "text/plain": [
              "<Figure size 640x480 with 2 Axes>"
            ]
          },
          "metadata": {},
          "output_type": "display_data"
        },
        {
          "name": "stdout",
          "output_type": "stream",
          "text": [
            "RandomForestClassifier()\n",
            "--------------------\n",
            "97.86666666666667\n",
            "[[  91    0    0    0    0    0    0   10    0    0    0    0]\n",
            " [   0   14    0    0    0    3    3   28    2    1    0    0]\n",
            " [   0    0   61    0    0    0    0    2    0    0    0    0]\n",
            " [   0    0    0   59    0    0    0    8    1    0    0    0]\n",
            " [   0    0    0    0  194    0    0    5    2    0    0    0]\n",
            " [   2    0    0    0    0   67    0   16    1    0    0    0]\n",
            " [   1    0    0    0    3    1  264    0    0    0    0    0]\n",
            " [   0    4    0    0    1    0    0 4816    1    0    0    0]\n",
            " [   0    0    0    0    0    0    0   18  104    0    0    0]\n",
            " [   0    0    1    0    1    0    1    3    0  114    1    0]\n",
            " [   1    0    0    0    1    0    0    1    0    0   56    0]\n",
            " [   0    0    0    0    4    0    0    0    1    0    0   32]]\n",
            "              precision    recall  f1-score   support\n",
            "\n",
            "           0       0.96      0.90      0.93       101\n",
            "           2       0.78      0.27      0.41        51\n",
            "           3       0.98      0.97      0.98        63\n",
            "           4       1.00      0.87      0.93        68\n",
            "           5       0.95      0.97      0.96       201\n",
            "           6       0.94      0.78      0.85        86\n",
            "           7       0.99      0.98      0.98       269\n",
            "           8       0.98      1.00      0.99      4822\n",
            "           9       0.93      0.85      0.89       122\n",
            "          10       0.99      0.94      0.97       121\n",
            "          11       0.98      0.95      0.97        59\n",
            "          12       1.00      0.86      0.93        37\n",
            "\n",
            "    accuracy                           0.98      6000\n",
            "   macro avg       0.96      0.86      0.90      6000\n",
            "weighted avg       0.98      0.98      0.98      6000\n",
            "\n"
          ]
        },
        {
          "data": {
            "image/png": "[encoded data removed]",
            "text/plain": [
              "<Figure size 640x480 with 2 Axes>"
            ]
          },
          "metadata": {},
          "output_type": "display_data"
        },
        {
          "name": "stdout",
          "output_type": "stream",
          "text": [
            "LogisticRegression()\n",
            "--------------------\n",
            "90.96666666666667\n",
            "[[  43    0    0    0    0    0    0   58    0    0    0    0]\n",
            " [   0    0    0    0    0    2    2   44    2    1    0    0]\n",
            " [   0    0   44    0    0    0    0   19    0    0    0    0]\n",
            " [   0    0    0   29    0    0    0   39    0    0    0    0]\n",
            " [   0    0    0    0  114    0    0   86    1    0    0    0]\n",
            " [   0    0    0    0    0   48    0   37    1    0    0    0]\n",
            " [   1    0    0    0    1    2  205   60    0    0    0    0]\n",
            " [   0    0    0    0    0    0    0 4821    1    0    0    0]\n",
            " [   0    0    0    0    0    0    0   73   49    0    0    0]\n",
            " [   0    0    0    0    2    0    1   41    0   77    0    0]\n",
            " [   0    0    0    0    1    0    2   30    0    0   26    0]\n",
            " [   0    0    0    0    1    0    0   33    1    0    0    2]]\n",
            "              precision    recall  f1-score   support\n",
            "\n",
            "           0       0.98      0.43      0.59       101\n",
            "           2       0.00      0.00      0.00        51\n",
            "           3       1.00      0.70      0.82        63\n",
            "           4       1.00      0.43      0.60        68\n",
            "           5       0.96      0.57      0.71       201\n",
            "           6       0.92      0.56      0.70        86\n",
            "           7       0.98      0.76      0.86       269\n",
            "           8       0.90      1.00      0.95      4822\n",
            "           9       0.89      0.40      0.55       122\n",
            "          10       0.99      0.64      0.77       121\n",
            "          11       1.00      0.44      0.61        59\n",
            "          12       1.00      0.05      0.10        37\n",
            "\n",
            "    accuracy                           0.91      6000\n",
            "   macro avg       0.88      0.50      0.61      6000\n",
            "weighted avg       0.91      0.91      0.89      6000\n",
            "\n"
          ]
        },
        {
          "name": "stderr",
          "output_type": "stream",
          "text": [
            "c:\\Users\\fidha\\AppData\\Local\\Programs\\Python\\Python312\\Lib\\site-packages\\sklearn\\metrics\\_classification.py:1565: UndefinedMetricWarning: Precision is ill-defined and being set to 0.0 in labels with no predicted samples. Use `zero_division` parameter to control this behavior.\n",
            "  _warn_prf(average, modifier, f\"{metric.capitalize()} is\", len(result))\n",
            "c:\\Users\\fidha\\AppData\\Local\\Programs\\Python\\Python312\\Lib\\site-packages\\sklearn\\metrics\\_classification.py:1565: UndefinedMetricWarning: Precision is ill-defined and being set to 0.0 in labels with no predicted samples. Use `zero_division` parameter to control this behavior.\n",
            "  _warn_prf(average, modifier, f\"{metric.capitalize()} is\", len(result))\n",
            "c:\\Users\\fidha\\AppData\\Local\\Programs\\Python\\Python312\\Lib\\site-packages\\sklearn\\metrics\\_classification.py:1565: UndefinedMetricWarning: Precision is ill-defined and being set to 0.0 in labels with no predicted samples. Use `zero_division` parameter to control this behavior.\n",
            "  _warn_prf(average, modifier, f\"{metric.capitalize()} is\", len(result))\n"
          ]
        },
        {
          "data": {
            "image/png": "[encoded data removed]",
            "text/plain": [
              "<Figure size 640x480 with 2 Axes>"
            ]
          },
          "metadata": {},
          "output_type": "display_data"
        }
      ],
      "source": [
        "models=[SVC(),MultinomialNB(),RandomForestClassifier(),LogisticRegression()]\n",
        "for model in models:\n",
        "    model.fit(x_train,y_train)\n",
        "    y_pred=model.predict(x_test)\n",
        "    print(model)\n",
        "    print(\"--------------------\")\n",
        "    print(accuracy_score(y_test,y_pred)*100)\n",
        "    print(confusion_matrix(y_test,y_pred))\n",
        "    print(classification_report(y_test,y_pred))\n",
        "    sns.heatmap(confusion_matrix(y_test,y_pred),fmt='d',cmap='Blues',annot=True)\n",
        "    plt.title(f'Heatmap of {model}')\n",
        "    plt.xlabel('Predicted')\n",
        "    plt.ylabel('Actual')\n",
        "    plt.show()"
      ]
    },
    {
      "cell_type": "markdown",
      "id": "0aedeb8b",
      "metadata": {},
      "source": [
        "SMOTE"
      ]
    },
    {
      "cell_type": "code",
      "execution_count": 80,
      "id": "r1EG_C-a8VTM",
      "metadata": {
        "id": "r1EG_C-a8VTM"
      },
      "outputs": [],
      "source": [
        "from sklearn.model_selection import train_test_split\n",
        "x_train,x_test,y_train,y_test=train_test_split(x_vector,y,test_size=0.3,random_state=42)"
      ]
    },
    {
      "cell_type": "code",
      "execution_count": 81,
      "id": "s_jQCRFKvwWw",
      "metadata": {
        "id": "s_jQCRFKvwWw"
      },
      "outputs": [],
      "source": [
        "\n",
        "smote = SMOTE(k_neighbors=1, random_state=42)\n",
        "x_over_s, y_over_s = smote.fit_resample(x_train,y_train)"
      ]
    },
    {
      "cell_type": "code",
      "execution_count": 82,
      "id": "PyYC5gK2-Nsy",
      "metadata": {
        "colab": {
          "base_uri": "https://localhost:8080/",
          "height": 1000
        },
        "id": "PyYC5gK2-Nsy",
        "outputId": "24ccf225-807b-48da-ee55-abeef2206e11"
      },
      "outputs": [
        {
          "name": "stdout",
          "output_type": "stream",
          "text": [
            "MultinomialNB()\n",
            "--------------------\n",
            "80.96666666666667\n",
            "[[   0    0    0    0    0    0    0  101    0    0    0    0]\n",
            " [   0    0    0    0    0    0    0   51    0    0    0    0]\n",
            " [   0    0    1    0    0    0    0   62    0    0    0    0]\n",
            " [   0    0    0    0    0    0    0   68    0    0    0    0]\n",
            " [   0    0    0    0    7    0    0  194    0    0    0    0]\n",
            " [   0    0    0    0    0    1    0   85    0    0    0    0]\n",
            " [   0    0    0    0    0    0   23  246    0    0    0    0]\n",
            " [   0    0    0    0    0    0    0 4822    0    0    0    0]\n",
            " [   0    0    0    0    0    0    0  120    2    0    0    0]\n",
            " [   0    0    0    0    1    0    0  118    0    2    0    0]\n",
            " [   0    0    0    0    0    0    0   59    0    0    0    0]\n",
            " [   0    0    0    0    0    0    0   37    0    0    0    0]]\n",
            "              precision    recall  f1-score   support\n",
            "\n",
            "           0       0.00      0.00      0.00       101\n",
            "           2       0.00      0.00      0.00        51\n",
            "           3       1.00      0.02      0.03        63\n",
            "           4       0.00      0.00      0.00        68\n",
            "           5       0.88      0.03      0.07       201\n",
            "           6       1.00      0.01      0.02        86\n",
            "           7       1.00      0.09      0.16       269\n",
            "           8       0.81      1.00      0.89      4822\n",
            "           9       1.00      0.02      0.03       122\n",
            "          10       1.00      0.02      0.03       121\n",
            "          11       0.00      0.00      0.00        59\n",
            "          12       0.00      0.00      0.00        37\n",
            "\n",
            "    accuracy                           0.81      6000\n",
            "   macro avg       0.56      0.10      0.10      6000\n",
            "weighted avg       0.79      0.81      0.73      6000\n",
            "\n"
          ]
        },
        {
          "name": "stderr",
          "output_type": "stream",
          "text": [
            "c:\\Users\\fidha\\AppData\\Local\\Programs\\Python\\Python312\\Lib\\site-packages\\sklearn\\metrics\\_classification.py:1565: UndefinedMetricWarning: Precision is ill-defined and being set to 0.0 in labels with no predicted samples. Use `zero_division` parameter to control this behavior.\n",
            "  _warn_prf(average, modifier, f\"{metric.capitalize()} is\", len(result))\n",
            "c:\\Users\\fidha\\AppData\\Local\\Programs\\Python\\Python312\\Lib\\site-packages\\sklearn\\metrics\\_classification.py:1565: UndefinedMetricWarning: Precision is ill-defined and being set to 0.0 in labels with no predicted samples. Use `zero_division` parameter to control this behavior.\n",
            "  _warn_prf(average, modifier, f\"{metric.capitalize()} is\", len(result))\n",
            "c:\\Users\\fidha\\AppData\\Local\\Programs\\Python\\Python312\\Lib\\site-packages\\sklearn\\metrics\\_classification.py:1565: UndefinedMetricWarning: Precision is ill-defined and being set to 0.0 in labels with no predicted samples. Use `zero_division` parameter to control this behavior.\n",
            "  _warn_prf(average, modifier, f\"{metric.capitalize()} is\", len(result))\n"
          ]
        },
        {
          "data": {
            "image/png": "[encoded data removed]",
            "text/plain": [
              "<Figure size 640x480 with 2 Axes>"
            ]
          },
          "metadata": {},
          "output_type": "display_data"
        }
      ],
      "source": [
        "model=MultinomialNB()\n",
        "model.fit(x_train,y_train)\n",
        "y_pred=model.predict(x_test)\n",
        "print(model)\n",
        "print(\"--------------------\")\n",
        "print(accuracy_score(y_test,y_pred)*100)\n",
        "print(confusion_matrix(y_test,y_pred))\n",
        "print(classification_report(y_test,y_pred))\n",
        "sns.heatmap(confusion_matrix(y_test,y_pred),fmt='d',cmap='Blues',annot=True)\n",
        "plt.title(f'Heatmap of {model}')\n",
        "plt.xlabel('Predicted')\n",
        "plt.ylabel('Actual')\n",
        "plt.show()"
      ]
    },
    {
      "cell_type": "code",
      "execution_count": 83,
      "id": "eeSOLtJq-mi6",
      "metadata": {
        "colab": {
          "base_uri": "https://localhost:8080/",
          "height": 1000
        },
        "id": "eeSOLtJq-mi6",
        "outputId": "144034ad-6e0a-47bb-d8c5-f71d09584273"
      },
      "outputs": [
        {
          "name": "stdout",
          "output_type": "stream",
          "text": [
            "RandomForestClassifier()\n",
            "--------------------\n",
            "97.89999999999999\n",
            "[[  93    0    0    0    0    0    0    8    0    0    0    0]\n",
            " [   0   14    0    0    0    2    3   28    2    1    0    1]\n",
            " [   0    0   61    0    0    0    0    2    0    0    0    0]\n",
            " [   0    0    0   59    0    0    0    8    1    0    0    0]\n",
            " [   0    0    0    0  195    0    0    4    2    0    0    0]\n",
            " [   2    0    0    0    1   66    0   16    1    0    0    0]\n",
            " [   1    0    0    1    1    1  265    0    0    0    0    0]\n",
            " [   0    4    0    0    1    0    0 4816    1    0    0    0]\n",
            " [   0    0    0    0    0    0    0   18  104    0    0    0]\n",
            " [   0    0    0    0    2    0    1    3    1  113    1    0]\n",
            " [   1    0    0    0    1    0    1    1    0    0   55    0]\n",
            " [   0    0    0    0    3    0    0    0    1    0    0   33]]\n",
            "              precision    recall  f1-score   support\n",
            "\n",
            "           0       0.96      0.92      0.94       101\n",
            "           2       0.78      0.27      0.41        51\n",
            "           3       1.00      0.97      0.98        63\n",
            "           4       0.98      0.87      0.92        68\n",
            "           5       0.96      0.97      0.96       201\n",
            "           6       0.96      0.77      0.85        86\n",
            "           7       0.98      0.99      0.98       269\n",
            "           8       0.98      1.00      0.99      4822\n",
            "           9       0.92      0.85      0.89       122\n",
            "          10       0.99      0.93      0.96       121\n",
            "          11       0.98      0.93      0.96        59\n",
            "          12       0.97      0.89      0.93        37\n",
            "\n",
            "    accuracy                           0.98      6000\n",
            "   macro avg       0.96      0.86      0.90      6000\n",
            "weighted avg       0.98      0.98      0.98      6000\n",
            "\n"
          ]
        },
        {
          "data": {
            "image/png": "[encoded data removed]",
            "text/plain": [
              "<Figure size 640x480 with 2 Axes>"
            ]
          },
          "metadata": {},
          "output_type": "display_data"
        }
      ],
      "source": [
        "model=RandomForestClassifier()\n",
        "model.fit(x_train,y_train)\n",
        "y_pred=model.predict(x_test)\n",
        "print(model)\n",
        "print(\"--------------------\")\n",
        "print(accuracy_score(y_test,y_pred)*100)\n",
        "print(confusion_matrix(y_test,y_pred))\n",
        "print(classification_report(y_test,y_pred))\n",
        "sns.heatmap(confusion_matrix(y_test,y_pred),fmt='d',cmap='Blues',annot=True)\n",
        "plt.title(f'Heatmap of {model}')\n",
        "plt.xlabel('Predicted')\n",
        "plt.ylabel('Actual')\n",
        "plt.show()"
      ]
    },
    {
      "cell_type": "code",
      "execution_count": 84,
      "id": "ecdd6355",
      "metadata": {},
      "outputs": [
        {
          "name": "stdout",
          "output_type": "stream",
          "text": [
            "LogisticRegression()\n",
            "--------------------\n",
            "90.96666666666667\n",
            "[[  43    0    0    0    0    0    0   58    0    0    0    0]\n",
            " [   0    0    0    0    0    2    2   44    2    1    0    0]\n",
            " [   0    0   44    0    0    0    0   19    0    0    0    0]\n",
            " [   0    0    0   29    0    0    0   39    0    0    0    0]\n",
            " [   0    0    0    0  114    0    0   86    1    0    0    0]\n",
            " [   0    0    0    0    0   48    0   37    1    0    0    0]\n",
            " [   1    0    0    0    1    2  205   60    0    0    0    0]\n",
            " [   0    0    0    0    0    0    0 4821    1    0    0    0]\n",
            " [   0    0    0    0    0    0    0   73   49    0    0    0]\n",
            " [   0    0    0    0    2    0    1   41    0   77    0    0]\n",
            " [   0    0    0    0    1    0    2   30    0    0   26    0]\n",
            " [   0    0    0    0    1    0    0   33    1    0    0    2]]\n",
            "              precision    recall  f1-score   support\n",
            "\n",
            "           0       0.98      0.43      0.59       101\n",
            "           2       0.00      0.00      0.00        51\n",
            "           3       1.00      0.70      0.82        63\n",
            "           4       1.00      0.43      0.60        68\n",
            "           5       0.96      0.57      0.71       201\n",
            "           6       0.92      0.56      0.70        86\n",
            "           7       0.98      0.76      0.86       269\n",
            "           8       0.90      1.00      0.95      4822\n",
            "           9       0.89      0.40      0.55       122\n",
            "          10       0.99      0.64      0.77       121\n",
            "          11       1.00      0.44      0.61        59\n",
            "          12       1.00      0.05      0.10        37\n",
            "\n",
            "    accuracy                           0.91      6000\n",
            "   macro avg       0.88      0.50      0.61      6000\n",
            "weighted avg       0.91      0.91      0.89      6000\n",
            "\n"
          ]
        },
        {
          "name": "stderr",
          "output_type": "stream",
          "text": [
            "c:\\Users\\fidha\\AppData\\Local\\Programs\\Python\\Python312\\Lib\\site-packages\\sklearn\\metrics\\_classification.py:1565: UndefinedMetricWarning: Precision is ill-defined and being set to 0.0 in labels with no predicted samples. Use `zero_division` parameter to control this behavior.\n",
            "  _warn_prf(average, modifier, f\"{metric.capitalize()} is\", len(result))\n",
            "c:\\Users\\fidha\\AppData\\Local\\Programs\\Python\\Python312\\Lib\\site-packages\\sklearn\\metrics\\_classification.py:1565: UndefinedMetricWarning: Precision is ill-defined and being set to 0.0 in labels with no predicted samples. Use `zero_division` parameter to control this behavior.\n",
            "  _warn_prf(average, modifier, f\"{metric.capitalize()} is\", len(result))\n",
            "c:\\Users\\fidha\\AppData\\Local\\Programs\\Python\\Python312\\Lib\\site-packages\\sklearn\\metrics\\_classification.py:1565: UndefinedMetricWarning: Precision is ill-defined and being set to 0.0 in labels with no predicted samples. Use `zero_division` parameter to control this behavior.\n",
            "  _warn_prf(average, modifier, f\"{metric.capitalize()} is\", len(result))\n"
          ]
        },
        {
          "data": {
            "image/png": "[encoded data removed]",
            "text/plain": [
              "<Figure size 640x480 with 2 Axes>"
            ]
          },
          "metadata": {},
          "output_type": "display_data"
        }
      ],
      "source": [
        "model=LogisticRegression()\n",
        "model.fit(x_train,y_train)\n",
        "y_pred=model.predict(x_test)\n",
        "print(model)\n",
        "print(\"--------------------\")\n",
        "print(accuracy_score(y_test,y_pred)*100)\n",
        "print(confusion_matrix(y_test,y_pred))\n",
        "print(classification_report(y_test,y_pred))\n",
        "sns.heatmap(confusion_matrix(y_test,y_pred),fmt='d',cmap='Blues',annot=True)\n",
        "plt.title(f'Heatmap of {model}')\n",
        "plt.xlabel('Predicted')\n",
        "plt.ylabel('Actual')\n",
        "plt.show()"
      ]
    },
    {
      "cell_type": "code",
      "execution_count": 85,
      "id": "LUY5vtFddiqn",
      "metadata": {
        "colab": {
          "base_uri": "https://localhost:8080/",
          "height": 1000
        },
        "id": "LUY5vtFddiqn",
        "outputId": "4e28e104-116b-4eab-bc35-9b5c436bee68"
      },
      "outputs": [
        {
          "name": "stdout",
          "output_type": "stream",
          "text": [
            "SVC()\n",
            "--------------------\n",
            "94.33333333333334\n",
            "[[  62    0    0    0    0    0    0   39    0    0    0    0]\n",
            " [   0    1    0    0    0    2    2   43    2    1    0    0]\n",
            " [   0    0   57    0    0    0    0    6    0    0    0    0]\n",
            " [   0    0    0   45    0    0    0   23    0    0    0    0]\n",
            " [   0    0    0    0  158    0    0   42    1    0    0    0]\n",
            " [   0    0    0    0    0   58    0   27    1    0    0    0]\n",
            " [   1    0    0    1    1    2  240   24    0    0    0    0]\n",
            " [   0    3    0    0    0    0    0 4818    1    0    0    0]\n",
            " [   0    0    0    0    0    0    0   54   68    0    0    0]\n",
            " [   0    0    1    0    2    0    1   20    0   96    1    0]\n",
            " [   0    0    0    0    1    0    2   12    0    0   44    0]\n",
            " [   0    0    0    0    1    0    0   23    0    0    0   13]]\n",
            "              precision    recall  f1-score   support\n",
            "\n",
            "           0       0.98      0.61      0.76       101\n",
            "           2       0.25      0.02      0.04        51\n",
            "           3       0.98      0.90      0.94        63\n",
            "           4       0.98      0.66      0.79        68\n",
            "           5       0.97      0.79      0.87       201\n",
            "           6       0.94      0.67      0.78        86\n",
            "           7       0.98      0.89      0.93       269\n",
            "           8       0.94      1.00      0.97      4822\n",
            "           9       0.93      0.56      0.70       122\n",
            "          10       0.99      0.79      0.88       121\n",
            "          11       0.98      0.75      0.85        59\n",
            "          12       1.00      0.35      0.52        37\n",
            "\n",
            "    accuracy                           0.94      6000\n",
            "   macro avg       0.91      0.67      0.75      6000\n",
            "weighted avg       0.94      0.94      0.94      6000\n",
            "\n"
          ]
        },
        {
          "data": {
            "image/png": "[encoded data removed]",
            "text/plain": [
              "<Figure size 640x480 with 2 Axes>"
            ]
          },
          "metadata": {},
          "output_type": "display_data"
        }
      ],
      "source": [
        "model=SVC()\n",
        "model.fit(x_train,y_train)\n",
        "y_pred=model.predict(x_test)\n",
        "print(model)\n",
        "print(\"--------------------\")\n",
        "print(accuracy_score(y_test,y_pred)*100)\n",
        "print(confusion_matrix(y_test,y_pred))\n",
        "print(classification_report(y_test,y_pred))\n",
        "sns.heatmap(confusion_matrix(y_test,y_pred),fmt='d',cmap='Blues',annot=True)\n",
        "plt.title(f'Heatmap of {model}')\n",
        "plt.xlabel('Predicted')\n",
        "plt.ylabel('Actual')\n",
        "plt.show()"
      ]
    },
    {
      "cell_type": "code",
      "execution_count": 86,
      "id": "bUar620RxvH4",
      "metadata": {
        "colab": {
          "base_uri": "https://localhost:8080/",
          "height": 523
        },
        "id": "bUar620RxvH4",
        "outputId": "b1e8b3a3-0858-4fe7-b297-50182668aa85"
      },
      "outputs": [
        {
          "data": {
            "text/plain": [
              "Emotion\n",
              "8     11193\n",
              "5     11193\n",
              "7     11193\n",
              "3     11193\n",
              "12    11193\n",
              "10    11193\n",
              "6     11193\n",
              "9     11193\n",
              "11    11193\n",
              "4     11193\n",
              "0     11193\n",
              "2     11193\n",
              "1     11193\n",
              "Name: count, dtype: int64"
            ]
          },
          "execution_count": 86,
          "metadata": {},
          "output_type": "execute_result"
        }
      ],
      "source": [
        "y_over_s.value_counts()"
      ]
    },
    {
      "cell_type": "code",
      "execution_count": 87,
      "id": "mO0Ymx5YhqHv",
      "metadata": {
        "colab": {
          "base_uri": "https://localhost:8080/",
          "height": 80
        },
        "id": "mO0Ymx5YhqHv",
        "outputId": "31bb78b2-b344-4803-cd8a-89a961389ffd"
      },
      "outputs": [
        {
          "data": {
            "text/html": [
              "<style>#sk-container-id-2 {\n",
              "  /* Definition of color scheme common for light and dark mode */\n",
              "  --sklearn-color-text: #000;\n",
              "  --sklearn-color-text-muted: #666;\n",
              "  --sklearn-color-line: gray;\n",
              "  /* Definition of color scheme for unfitted estimators */\n",
              "  --sklearn-color-unfitted-level-0: #fff5e6;\n",
              "  --sklearn-color-unfitted-level-1: #f6e4d2;\n",
              "  --sklearn-color-unfitted-level-2: #ffe0b3;\n",
              "  --sklearn-color-unfitted-level-3: chocolate;\n",
              "  /* Definition of color scheme for fitted estimators */\n",
              "  --sklearn-color-fitted-level-0: #f0f8ff;\n",
              "  --sklearn-color-fitted-level-1: #d4ebff;\n",
              "  --sklearn-color-fitted-level-2: #b3dbfd;\n",
              "  --sklearn-color-fitted-level-3: cornflowerblue;\n",
              "\n",
              "  /* Specific color for light theme */\n",
              "  --sklearn-color-text-on-default-background: var(--sg-text-color, var(--theme-code-foreground, var(--jp-content-font-color1, black)));\n",
              "  --sklearn-color-background: var(--sg-background-color, var(--theme-background, var(--jp-layout-color0, white)));\n",
              "  --sklearn-color-border-box: var(--sg-text-color, var(--theme-code-foreground, var(--jp-content-font-color1, black)));\n",
              "  --sklearn-color-icon: #696969;\n",
              "\n",
              "  @media (prefers-color-scheme: dark) {\n",
              "    /* Redefinition of color scheme for dark theme */\n",
              "    --sklearn-color-text-on-default-background: var(--sg-text-color, var(--theme-code-foreground, var(--jp-content-font-color1, white)));\n",
              "    --sklearn-color-background: var(--sg-background-color, var(--theme-background, var(--jp-layout-color0, #111)));\n",
              "    --sklearn-color-border-box: var(--sg-text-color, var(--theme-code-foreground, var(--jp-content-font-color1, white)));\n",
              "    --sklearn-color-icon: #878787;\n",
              "  }\n",
              "}\n",
              "\n",
              "#sk-container-id-2 {\n",
              "  color: var(--sklearn-color-text);\n",
              "}\n",
              "\n",
              "#sk-container-id-2 pre {\n",
              "  padding: 0;\n",
              "}\n",
              "\n",
              "#sk-container-id-2 input.sk-hidden--visually {\n",
              "  border: 0;\n",
              "  clip: rect(1px 1px 1px 1px);\n",
              "  clip: rect(1px, 1px, 1px, 1px);\n",
              "  height: 1px;\n",
              "  margin: -1px;\n",
              "  overflow: hidden;\n",
              "  padding: 0;\n",
              "  position: absolute;\n",
              "  width: 1px;\n",
              "}\n",
              "\n",
              "#sk-container-id-2 div.sk-dashed-wrapped {\n",
              "  border: 1px dashed var(--sklearn-color-line);\n",
              "  margin: 0 0.4em 0.5em 0.4em;\n",
              "  box-sizing: border-box;\n",
              "  padding-bottom: 0.4em;\n",
              "  background-color: var(--sklearn-color-background);\n",
              "}\n",
              "\n",
              "#sk-container-id-2 div.sk-container {\n",
              "  /* jupyter's `normalize.less` sets `[hidden] { display: none; }`\n",
              "     but bootstrap.min.css set `[hidden] { display: none !important; }`\n",
              "     so we also need the `!important` here to be able to override the\n",
              "     default hidden behavior on the sphinx rendered scikit-learn.org.\n",
              "     See: https://github.com/scikit-learn/scikit-learn/issues/21755 */\n",
              "  display: inline-block !important;\n",
              "  position: relative;\n",
              "}\n",
              "\n",
              "#sk-container-id-2 div.sk-text-repr-fallback {\n",
              "  display: none;\n",
              "}\n",
              "\n",
              "div.sk-parallel-item,\n",
              "div.sk-serial,\n",
              "div.sk-item {\n",
              "  /* draw centered vertical line to link estimators */\n",
              "  background-image: linear-gradient(var(--sklearn-color-text-on-default-background), var(--sklearn-color-text-on-default-background));\n",
              "  background-size: 2px 100%;\n",
              "  background-repeat: no-repeat;\n",
              "  background-position: center center;\n",
              "}\n",
              "\n",
              "/* Parallel-specific style estimator block */\n",
              "\n",
              "#sk-container-id-2 div.sk-parallel-item::after {\n",
              "  content: \"\";\n",
              "  width: 100%;\n",
              "  border-bottom: 2px solid var(--sklearn-color-text-on-default-background);\n",
              "  flex-grow: 1;\n",
              "}\n",
              "\n",
              "#sk-container-id-2 div.sk-parallel {\n",
              "  display: flex;\n",
              "  align-items: stretch;\n",
              "  justify-content: center;\n",
              "  background-color: var(--sklearn-color-background);\n",
              "  position: relative;\n",
              "}\n",
              "\n",
              "#sk-container-id-2 div.sk-parallel-item {\n",
              "  display: flex;\n",
              "  flex-direction: column;\n",
              "}\n",
              "\n",
              "#sk-container-id-2 div.sk-parallel-item:first-child::after {\n",
              "  align-self: flex-end;\n",
              "  width: 50%;\n",
              "}\n",
              "\n",
              "#sk-container-id-2 div.sk-parallel-item:last-child::after {\n",
              "  align-self: flex-start;\n",
              "  width: 50%;\n",
              "}\n",
              "\n",
              "#sk-container-id-2 div.sk-parallel-item:only-child::after {\n",
              "  width: 0;\n",
              "}\n",
              "\n",
              "/* Serial-specific style estimator block */\n",
              "\n",
              "#sk-container-id-2 div.sk-serial {\n",
              "  display: flex;\n",
              "  flex-direction: column;\n",
              "  align-items: center;\n",
              "  background-color: var(--sklearn-color-background);\n",
              "  padding-right: 1em;\n",
              "  padding-left: 1em;\n",
              "}\n",
              "\n",
              "\n",
              "/* Toggleable style: style used for estimator/Pipeline/ColumnTransformer box that is\n",
              "clickable and can be expanded/collapsed.\n",
              "- Pipeline and ColumnTransformer use this feature and define the default style\n",
              "- Estimators will overwrite some part of the style using the `sk-estimator` class\n",
              "*/\n",
              "\n",
              "/* Pipeline and ColumnTransformer style (default) */\n",
              "\n",
              "#sk-container-id-2 div.sk-toggleable {\n",
              "  /* Default theme specific background. It is overwritten whether we have a\n",
              "  specific estimator or a Pipeline/ColumnTransformer */\n",
              "  background-color: var(--sklearn-color-background);\n",
              "}\n",
              "\n",
              "/* Toggleable label */\n",
              "#sk-container-id-2 label.sk-toggleable__label {\n",
              "  cursor: pointer;\n",
              "  display: flex;\n",
              "  width: 100%;\n",
              "  margin-bottom: 0;\n",
              "  padding: 0.5em;\n",
              "  box-sizing: border-box;\n",
              "  text-align: center;\n",
              "  align-items: start;\n",
              "  justify-content: space-between;\n",
              "  gap: 0.5em;\n",
              "}\n",
              "\n",
              "#sk-container-id-2 label.sk-toggleable__label .caption {\n",
              "  font-size: 0.6rem;\n",
              "  font-weight: lighter;\n",
              "  color: var(--sklearn-color-text-muted);\n",
              "}\n",
              "\n",
              "#sk-container-id-2 label.sk-toggleable__label-arrow:before {\n",
              "  /* Arrow on the left of the label */\n",
              "  content: \"▸\";\n",
              "  float: left;\n",
              "  margin-right: 0.25em;\n",
              "  color: var(--sklearn-color-icon);\n",
              "}\n",
              "\n",
              "#sk-container-id-2 label.sk-toggleable__label-arrow:hover:before {\n",
              "  color: var(--sklearn-color-text);\n",
              "}\n",
              "\n",
              "/* Toggleable content - dropdown */\n",
              "\n",
              "#sk-container-id-2 div.sk-toggleable__content {\n",
              "  max-height: 0;\n",
              "  max-width: 0;\n",
              "  overflow: hidden;\n",
              "  text-align: left;\n",
              "  /* unfitted */\n",
              "  background-color: var(--sklearn-color-unfitted-level-0);\n",
              "}\n",
              "\n",
              "#sk-container-id-2 div.sk-toggleable__content.fitted {\n",
              "  /* fitted */\n",
              "  background-color: var(--sklearn-color-fitted-level-0);\n",
              "}\n",
              "\n",
              "#sk-container-id-2 div.sk-toggleable__content pre {\n",
              "  margin: 0.2em;\n",
              "  border-radius: 0.25em;\n",
              "  color: var(--sklearn-color-text);\n",
              "  /* unfitted */\n",
              "  background-color: var(--sklearn-color-unfitted-level-0);\n",
              "}\n",
              "\n",
              "#sk-container-id-2 div.sk-toggleable__content.fitted pre {\n",
              "  /* unfitted */\n",
              "  background-color: var(--sklearn-color-fitted-level-0);\n",
              "}\n",
              "\n",
              "#sk-container-id-2 input.sk-toggleable__control:checked~div.sk-toggleable__content {\n",
              "  /* Expand drop-down */\n",
              "  max-height: 200px;\n",
              "  max-width: 100%;\n",
              "  overflow: auto;\n",
              "}\n",
              "\n",
              "#sk-container-id-2 input.sk-toggleable__control:checked~label.sk-toggleable__label-arrow:before {\n",
              "  content: \"▾\";\n",
              "}\n",
              "\n",
              "/* Pipeline/ColumnTransformer-specific style */\n",
              "\n",
              "#sk-container-id-2 div.sk-label input.sk-toggleable__control:checked~label.sk-toggleable__label {\n",
              "  color: var(--sklearn-color-text);\n",
              "  background-color: var(--sklearn-color-unfitted-level-2);\n",
              "}\n",
              "\n",
              "#sk-container-id-2 div.sk-label.fitted input.sk-toggleable__control:checked~label.sk-toggleable__label {\n",
              "  background-color: var(--sklearn-color-fitted-level-2);\n",
              "}\n",
              "\n",
              "/* Estimator-specific style */\n",
              "\n",
              "/* Colorize estimator box */\n",
              "#sk-container-id-2 div.sk-estimator input.sk-toggleable__control:checked~label.sk-toggleable__label {\n",
              "  /* unfitted */\n",
              "  background-color: var(--sklearn-color-unfitted-level-2);\n",
              "}\n",
              "\n",
              "#sk-container-id-2 div.sk-estimator.fitted input.sk-toggleable__control:checked~label.sk-toggleable__label {\n",
              "  /* fitted */\n",
              "  background-color: var(--sklearn-color-fitted-level-2);\n",
              "}\n",
              "\n",
              "#sk-container-id-2 div.sk-label label.sk-toggleable__label,\n",
              "#sk-container-id-2 div.sk-label label {\n",
              "  /* The background is the default theme color */\n",
              "  color: var(--sklearn-color-text-on-default-background);\n",
              "}\n",
              "\n",
              "/* On hover, darken the color of the background */\n",
              "#sk-container-id-2 div.sk-label:hover label.sk-toggleable__label {\n",
              "  color: var(--sklearn-color-text);\n",
              "  background-color: var(--sklearn-color-unfitted-level-2);\n",
              "}\n",
              "\n",
              "/* Label box, darken color on hover, fitted */\n",
              "#sk-container-id-2 div.sk-label.fitted:hover label.sk-toggleable__label.fitted {\n",
              "  color: var(--sklearn-color-text);\n",
              "  background-color: var(--sklearn-color-fitted-level-2);\n",
              "}\n",
              "\n",
              "/* Estimator label */\n",
              "\n",
              "#sk-container-id-2 div.sk-label label {\n",
              "  font-family: monospace;\n",
              "  font-weight: bold;\n",
              "  display: inline-block;\n",
              "  line-height: 1.2em;\n",
              "}\n",
              "\n",
              "#sk-container-id-2 div.sk-label-container {\n",
              "  text-align: center;\n",
              "}\n",
              "\n",
              "/* Estimator-specific */\n",
              "#sk-container-id-2 div.sk-estimator {\n",
              "  font-family: monospace;\n",
              "  border: 1px dotted var(--sklearn-color-border-box);\n",
              "  border-radius: 0.25em;\n",
              "  box-sizing: border-box;\n",
              "  margin-bottom: 0.5em;\n",
              "  /* unfitted */\n",
              "  background-color: var(--sklearn-color-unfitted-level-0);\n",
              "}\n",
              "\n",
              "#sk-container-id-2 div.sk-estimator.fitted {\n",
              "  /* fitted */\n",
              "  background-color: var(--sklearn-color-fitted-level-0);\n",
              "}\n",
              "\n",
              "/* on hover */\n",
              "#sk-container-id-2 div.sk-estimator:hover {\n",
              "  /* unfitted */\n",
              "  background-color: var(--sklearn-color-unfitted-level-2);\n",
              "}\n",
              "\n",
              "#sk-container-id-2 div.sk-estimator.fitted:hover {\n",
              "  /* fitted */\n",
              "  background-color: var(--sklearn-color-fitted-level-2);\n",
              "}\n",
              "\n",
              "/* Specification for estimator info (e.g. \"i\" and \"?\") */\n",
              "\n",
              "/* Common style for \"i\" and \"?\" */\n",
              "\n",
              ".sk-estimator-doc-link,\n",
              "a:link.sk-estimator-doc-link,\n",
              "a:visited.sk-estimator-doc-link {\n",
              "  float: right;\n",
              "  font-size: smaller;\n",
              "  line-height: 1em;\n",
              "  font-family: monospace;\n",
              "  background-color: var(--sklearn-color-background);\n",
              "  border-radius: 1em;\n",
              "  height: 1em;\n",
              "  width: 1em;\n",
              "  text-decoration: none !important;\n",
              "  margin-left: 0.5em;\n",
              "  text-align: center;\n",
              "  /* unfitted */\n",
              "  border: var(--sklearn-color-unfitted-level-1) 1pt solid;\n",
              "  color: var(--sklearn-color-unfitted-level-1);\n",
              "}\n",
              "\n",
              ".sk-estimator-doc-link.fitted,\n",
              "a:link.sk-estimator-doc-link.fitted,\n",
              "a:visited.sk-estimator-doc-link.fitted {\n",
              "  /* fitted */\n",
              "  border: var(--sklearn-color-fitted-level-1) 1pt solid;\n",
              "  color: var(--sklearn-color-fitted-level-1);\n",
              "}\n",
              "\n",
              "/* On hover */\n",
              "div.sk-estimator:hover .sk-estimator-doc-link:hover,\n",
              ".sk-estimator-doc-link:hover,\n",
              "div.sk-label-container:hover .sk-estimator-doc-link:hover,\n",
              ".sk-estimator-doc-link:hover {\n",
              "  /* unfitted */\n",
              "  background-color: var(--sklearn-color-unfitted-level-3);\n",
              "  color: var(--sklearn-color-background);\n",
              "  text-decoration: none;\n",
              "}\n",
              "\n",
              "div.sk-estimator.fitted:hover .sk-estimator-doc-link.fitted:hover,\n",
              ".sk-estimator-doc-link.fitted:hover,\n",
              "div.sk-label-container:hover .sk-estimator-doc-link.fitted:hover,\n",
              ".sk-estimator-doc-link.fitted:hover {\n",
              "  /* fitted */\n",
              "  background-color: var(--sklearn-color-fitted-level-3);\n",
              "  color: var(--sklearn-color-background);\n",
              "  text-decoration: none;\n",
              "}\n",
              "\n",
              "/* Span, style for the box shown on hovering the info icon */\n",
              ".sk-estimator-doc-link span {\n",
              "  display: none;\n",
              "  z-index: 9999;\n",
              "  position: relative;\n",
              "  font-weight: normal;\n",
              "  right: .2ex;\n",
              "  padding: .5ex;\n",
              "  margin: .5ex;\n",
              "  width: min-content;\n",
              "  min-width: 20ex;\n",
              "  max-width: 50ex;\n",
              "  color: var(--sklearn-color-text);\n",
              "  box-shadow: 2pt 2pt 4pt #999;\n",
              "  /* unfitted */\n",
              "  background: var(--sklearn-color-unfitted-level-0);\n",
              "  border: .5pt solid var(--sklearn-color-unfitted-level-3);\n",
              "}\n",
              "\n",
              ".sk-estimator-doc-link.fitted span {\n",
              "  /* fitted */\n",
              "  background: var(--sklearn-color-fitted-level-0);\n",
              "  border: var(--sklearn-color-fitted-level-3);\n",
              "}\n",
              "\n",
              ".sk-estimator-doc-link:hover span {\n",
              "  display: block;\n",
              "}\n",
              "\n",
              "/* \"?\"-specific style due to the `<a>` HTML tag */\n",
              "\n",
              "#sk-container-id-2 a.estimator_doc_link {\n",
              "  float: right;\n",
              "  font-size: 1rem;\n",
              "  line-height: 1em;\n",
              "  font-family: monospace;\n",
              "  background-color: var(--sklearn-color-background);\n",
              "  border-radius: 1rem;\n",
              "  height: 1rem;\n",
              "  width: 1rem;\n",
              "  text-decoration: none;\n",
              "  /* unfitted */\n",
              "  color: var(--sklearn-color-unfitted-level-1);\n",
              "  border: var(--sklearn-color-unfitted-level-1) 1pt solid;\n",
              "}\n",
              "\n",
              "#sk-container-id-2 a.estimator_doc_link.fitted {\n",
              "  /* fitted */\n",
              "  border: var(--sklearn-color-fitted-level-1) 1pt solid;\n",
              "  color: var(--sklearn-color-fitted-level-1);\n",
              "}\n",
              "\n",
              "/* On hover */\n",
              "#sk-container-id-2 a.estimator_doc_link:hover {\n",
              "  /* unfitted */\n",
              "  background-color: var(--sklearn-color-unfitted-level-3);\n",
              "  color: var(--sklearn-color-background);\n",
              "  text-decoration: none;\n",
              "}\n",
              "\n",
              "#sk-container-id-2 a.estimator_doc_link.fitted:hover {\n",
              "  /* fitted */\n",
              "  background-color: var(--sklearn-color-fitted-level-3);\n",
              "}\n",
              "</style><div id=\"sk-container-id-2\" class=\"sk-top-container\"><div class=\"sk-text-repr-fallback\"><pre>RandomForestClassifier()</pre><b>In a Jupyter environment, please rerun this cell to show the HTML representation or trust the notebook. <br />On GitHub, the HTML representation is unable to render, please try loading this page with nbviewer.org.</b></div><div class=\"sk-container\" hidden><div class=\"sk-item\"><div class=\"sk-estimator fitted sk-toggleable\"><input class=\"sk-toggleable__control sk-hidden--visually\" id=\"sk-estimator-id-2\" type=\"checkbox\" checked><label for=\"sk-estimator-id-2\" class=\"sk-toggleable__label fitted sk-toggleable__label-arrow\"><div><div>RandomForestClassifier</div></div><div><a class=\"sk-estimator-doc-link fitted\" rel=\"noreferrer\" target=\"_blank\" href=\"https://scikit-learn.org/1.6/modules/generated/sklearn.ensemble.RandomForestClassifier.html\">?<span>Documentation for RandomForestClassifier</span></a><span class=\"sk-estimator-doc-link fitted\">i<span>Fitted</span></span></div></label><div class=\"sk-toggleable__content fitted\"><pre>RandomForestClassifier()</pre></div> </div></div></div></div>"
            ],
            "text/plain": [
              "RandomForestClassifier()"
            ]
          },
          "execution_count": 87,
          "metadata": {},
          "output_type": "execute_result"
        }
      ],
      "source": [
        "final_model=RandomForestClassifier()\n",
        "final_model.fit(x_train,y_train)"
      ]
    },
    {
      "cell_type": "code",
      "execution_count": 88,
      "id": "PBOZjw1D1LUB",
      "metadata": {
        "colab": {
          "base_uri": "https://localhost:8080/"
        },
        "id": "PBOZjw1D1LUB",
        "outputId": "1ff93605-2291-48e9-dcbf-d064be9b9250"
      },
      "outputs": [
        {
          "data": {
            "text/plain": [
              "array(['anger', 'boredom', 'empty', 'enthusiasm', 'fun', 'happiness',\n",
              "       'hate', 'love', 'neutral', 'relief', 'sadness', 'surprise',\n",
              "       'worry'], dtype=object)"
            ]
          },
          "execution_count": 88,
          "metadata": {},
          "output_type": "execute_result"
        }
      ],
      "source": [
        "le.inverse_transform([0,1,2,3,4,5,6,7,8,9,10,11,12])"
      ]
    },
    {
      "cell_type": "code",
      "execution_count": 89,
      "id": "f0UFE01h1SR5",
      "metadata": {
        "colab": {
          "base_uri": "https://localhost:8080/",
          "height": 35
        },
        "id": "f0UFE01h1SR5",
        "outputId": "f81aa80f-2e13-4c52-ec8b-1db0f7e61ca3"
      },
      "outputs": [
        {
          "data": {
            "text/plain": [
              "'i still feel a dull monotony of life working on that day and night'"
            ]
          },
          "execution_count": 89,
          "metadata": {},
          "output_type": "execute_result"
        }
      ],
      "source": [
        "df[df['Emotion'] == 1]['text'].iloc[0]"
      ]
    },
    {
      "cell_type": "code",
      "execution_count": 129,
      "id": "39e03cc7",
      "metadata": {},
      "outputs": [
        {
          "data": {
            "text/plain": [
              "'i have seen that a father or some person in the family generates so much negative vibes in his home that the other members of the family feel uncomfortable when he is home'"
            ]
          },
          "execution_count": 129,
          "metadata": {},
          "output_type": "execute_result"
        }
      ],
      "source": [
        "df[df['Emotion'] == 9]['text'].iloc[26]"
      ]
    },
    {
      "cell_type": "code",
      "execution_count": 134,
      "id": "f958d6c5",
      "metadata": {},
      "outputs": [
        {
          "data": {
            "text/plain": [
              "'im feeling far more contented'"
            ]
          },
          "execution_count": 134,
          "metadata": {},
          "output_type": "execute_result"
        }
      ],
      "source": [
        "df[df['Emotion'] == 5]['text'].iloc[4]"
      ]
    },
    {
      "cell_type": "code",
      "execution_count": 102,
      "id": "YyBQLA-J1gJ7",
      "metadata": {
        "colab": {
          "base_uri": "https://localhost:8080/",
          "height": 35
        },
        "id": "YyBQLA-J1gJ7",
        "outputId": "b2084285-b8b2-416a-a13b-ce365d31cc93"
      },
      "outputs": [
        {
          "data": {
            "text/plain": [
              "'i am not feeling very joyful today its been a rough day'"
            ]
          },
          "execution_count": 102,
          "metadata": {},
          "output_type": "execute_result"
        }
      ],
      "source": [
        "df[df['Emotion'] == 4]['text'].iloc[11]"
      ]
    },
    {
      "cell_type": "code",
      "execution_count": 91,
      "id": "CW0r_XfkhGu9",
      "metadata": {
        "id": "CW0r_XfkhGu9"
      },
      "outputs": [],
      "source": [
        "dict={'vectorizer':vectorizer,'label':le,'model':final_model}"
      ]
    },
    {
      "cell_type": "code",
      "execution_count": 94,
      "id": "4dYclOmidqsj",
      "metadata": {
        "colab": {
          "base_uri": "https://localhost:8080/",
          "height": 34
        },
        "id": "4dYclOmidqsj",
        "outputId": "d62ddf27-b1f7-4f22-d353-f1243b9051b3"
      },
      "outputs": [],
      "source": [
        "import pickle\n",
        "with open('emotions.pkl','wb') as obj1:\n",
        "  pickle.dump(dict,obj1)"
      ]
    }
  ],
  "metadata": {
    "accelerator": "GPU",
    "colab": {
      "gpuType": "T4",
      "provenance": []
    },
    "kernelspec": {
      "display_name": "Python 3",
      "name": "python3"
    },
    "language_info": {
      "codemirror_mode": {
        "name": "ipython",
        "version": 3
      },
      "file_extension": ".py",
      "mimetype": "text/x-python",
      "name": "python",
      "nbconvert_exporter": "python",
      "pygments_lexer": "ipython3",
      "version": "3.12.8"
    },
    "widgets": {
      "application/vnd.jupyter.widget-state+json": {
        "2256b20f3df144159a33272acb530f0c": {
          "model_module": "@jupyter-widgets/base",
          "model_module_version": "1.2.0",
          "model_name": "LayoutModel",
          "state": {
            "_model_module": "@jupyter-widgets/base",
            "_model_module_version": "1.2.0",
            "_model_name": "LayoutModel",
            "_view_count": null,
            "_view_module": "@jupyter-widgets/base",
            "_view_module_version": "1.2.0",
            "_view_name": "LayoutView",
            "align_content": null,
            "align_items": null,
            "align_self": null,
            "border": null,
            "bottom": null,
            "display": null,
            "flex": null,
            "flex_flow": null,
            "grid_area": null,
            "grid_auto_columns": null,
            "grid_auto_flow": null,
            "grid_auto_rows": null,
            "grid_column": null,
            "grid_gap": null,
            "grid_row": null,
            "grid_template_areas": null,
            "grid_template_columns": null,
            "grid_template_rows": null,
            "height": null,
            "justify_content": null,
            "justify_items": null,
            "left": null,
            "margin": null,
            "max_height": null,
            "max_width": null,
            "min_height": null,
            "min_width": null,
            "object_fit": null,
            "object_position": null,
            "order": null,
            "overflow": null,
            "overflow_x": null,
            "overflow_y": null,
            "padding": null,
            "right": null,
            "top": null,
            "visibility": null,
            "width": null
          }
        },
        "274057b740e0429fa2bcc8561d29b25a": {
          "model_module": "@jupyter-widgets/base",
          "model_module_version": "1.2.0",
          "model_name": "LayoutModel",
          "state": {
            "_model_module": "@jupyter-widgets/base",
            "_model_module_version": "1.2.0",
            "_model_name": "LayoutModel",
            "_view_count": null,
            "_view_module": "@jupyter-widgets/base",
            "_view_module_version": "1.2.0",
            "_view_name": "LayoutView",
            "align_content": null,
            "align_items": null,
            "align_self": null,
            "border": null,
            "bottom": null,
            "display": null,
            "flex": null,
            "flex_flow": null,
            "grid_area": null,
            "grid_auto_columns": null,
            "grid_auto_flow": null,
            "grid_auto_rows": null,
            "grid_column": null,
            "grid_gap": null,
            "grid_row": null,
            "grid_template_areas": null,
            "grid_template_columns": null,
            "grid_template_rows": null,
            "height": null,
            "justify_content": null,
            "justify_items": null,
            "left": null,
            "margin": null,
            "max_height": null,
            "max_width": null,
            "min_height": null,
            "min_width": null,
            "object_fit": null,
            "object_position": null,
            "order": null,
            "overflow": null,
            "overflow_x": null,
            "overflow_y": null,
            "padding": null,
            "right": null,
            "top": null,
            "visibility": null,
            "width": null
          }
        },
        "27c1211faa814eb99e7af6b702cddeb8": {
          "model_module": "@jupyter-widgets/controls",
          "model_module_version": "1.5.0",
          "model_name": "ProgressStyleModel",
          "state": {
            "_model_module": "@jupyter-widgets/controls",
            "_model_module_version": "1.5.0",
            "_model_name": "ProgressStyleModel",
            "_view_count": null,
            "_view_module": "@jupyter-widgets/base",
            "_view_module_version": "1.2.0",
            "_view_name": "StyleView",
            "bar_color": null,
            "description_width": ""
          }
        },
        "3141b3c2977e4397b99466bff015b30d": {
          "model_module": "@jupyter-widgets/controls",
          "model_module_version": "1.5.0",
          "model_name": "FloatProgressModel",
          "state": {
            "_dom_classes": [],
            "_model_module": "@jupyter-widgets/controls",
            "_model_module_version": "1.5.0",
            "_model_name": "FloatProgressModel",
            "_view_count": null,
            "_view_module": "@jupyter-widgets/controls",
            "_view_module_version": "1.5.0",
            "_view_name": "ProgressView",
            "bar_style": "success",
            "description": "",
            "description_tooltip": null,
            "layout": "IPY_MODEL_2256b20f3df144159a33272acb530f0c",
            "max": 20000,
            "min": 0,
            "orientation": "horizontal",
            "style": "IPY_MODEL_27c1211faa814eb99e7af6b702cddeb8",
            "value": 20000
          }
        },
        "4a782038ff1d4c9183cd028109fc9c0d": {
          "model_module": "@jupyter-widgets/base",
          "model_module_version": "1.2.0",
          "model_name": "LayoutModel",
          "state": {
            "_model_module": "@jupyter-widgets/base",
            "_model_module_version": "1.2.0",
            "_model_name": "LayoutModel",
            "_view_count": null,
            "_view_module": "@jupyter-widgets/base",
            "_view_module_version": "1.2.0",
            "_view_name": "LayoutView",
            "align_content": null,
            "align_items": null,
            "align_self": null,
            "border": null,
            "bottom": null,
            "display": null,
            "flex": null,
            "flex_flow": null,
            "grid_area": null,
            "grid_auto_columns": null,
            "grid_auto_flow": null,
            "grid_auto_rows": null,
            "grid_column": null,
            "grid_gap": null,
            "grid_row": null,
            "grid_template_areas": null,
            "grid_template_columns": null,
            "grid_template_rows": null,
            "height": null,
            "justify_content": null,
            "justify_items": null,
            "left": null,
            "margin": null,
            "max_height": null,
            "max_width": null,
            "min_height": null,
            "min_width": null,
            "object_fit": null,
            "object_position": null,
            "order": null,
            "overflow": null,
            "overflow_x": null,
            "overflow_y": null,
            "padding": null,
            "right": null,
            "top": null,
            "visibility": null,
            "width": null
          }
        },
        "6e1a9092909f4ca08b15aaaa3d17024a": {
          "model_module": "@jupyter-widgets/base",
          "model_module_version": "1.2.0",
          "model_name": "LayoutModel",
          "state": {
            "_model_module": "@jupyter-widgets/base",
            "_model_module_version": "1.2.0",
            "_model_name": "LayoutModel",
            "_view_count": null,
            "_view_module": "@jupyter-widgets/base",
            "_view_module_version": "1.2.0",
            "_view_name": "LayoutView",
            "align_content": null,
            "align_items": null,
            "align_self": null,
            "border": null,
            "bottom": null,
            "display": null,
            "flex": null,
            "flex_flow": null,
            "grid_area": null,
            "grid_auto_columns": null,
            "grid_auto_flow": null,
            "grid_auto_rows": null,
            "grid_column": null,
            "grid_gap": null,
            "grid_row": null,
            "grid_template_areas": null,
            "grid_template_columns": null,
            "grid_template_rows": null,
            "height": null,
            "justify_content": null,
            "justify_items": null,
            "left": null,
            "margin": null,
            "max_height": null,
            "max_width": null,
            "min_height": null,
            "min_width": null,
            "object_fit": null,
            "object_position": null,
            "order": null,
            "overflow": null,
            "overflow_x": null,
            "overflow_y": null,
            "padding": null,
            "right": null,
            "top": null,
            "visibility": null,
            "width": null
          }
        },
        "7344b77641154e62a9c66d7b3efa84fa": {
          "model_module": "@jupyter-widgets/controls",
          "model_module_version": "1.5.0",
          "model_name": "HBoxModel",
          "state": {
            "_dom_classes": [],
            "_model_module": "@jupyter-widgets/controls",
            "_model_module_version": "1.5.0",
            "_model_name": "HBoxModel",
            "_view_count": null,
            "_view_module": "@jupyter-widgets/controls",
            "_view_module_version": "1.5.0",
            "_view_name": "HBoxView",
            "box_style": "",
            "children": [
              "IPY_MODEL_dcd400168fce4e09a0c1065c14bd02ef",
              "IPY_MODEL_3141b3c2977e4397b99466bff015b30d",
              "IPY_MODEL_83437bc59d9045888a36e06742de362c"
            ],
            "layout": "IPY_MODEL_274057b740e0429fa2bcc8561d29b25a"
          }
        },
        "83437bc59d9045888a36e06742de362c": {
          "model_module": "@jupyter-widgets/controls",
          "model_module_version": "1.5.0",
          "model_name": "HTMLModel",
          "state": {
            "_dom_classes": [],
            "_model_module": "@jupyter-widgets/controls",
            "_model_module_version": "1.5.0",
            "_model_name": "HTMLModel",
            "_view_count": null,
            "_view_module": "@jupyter-widgets/controls",
            "_view_module_version": "1.5.0",
            "_view_name": "HTMLView",
            "description": "",
            "description_tooltip": null,
            "layout": "IPY_MODEL_6e1a9092909f4ca08b15aaaa3d17024a",
            "placeholder": "​",
            "style": "IPY_MODEL_d289036821144427b95fd7330bebcf93",
            "value": " 20000/20000 [00:03&lt;00:00, 8088.65it/s]"
          }
        },
        "c543daf19b7543fd9a8b8826e7f93be3": {
          "model_module": "@jupyter-widgets/controls",
          "model_module_version": "1.5.0",
          "model_name": "DescriptionStyleModel",
          "state": {
            "_model_module": "@jupyter-widgets/controls",
            "_model_module_version": "1.5.0",
            "_model_name": "DescriptionStyleModel",
            "_view_count": null,
            "_view_module": "@jupyter-widgets/base",
            "_view_module_version": "1.2.0",
            "_view_name": "StyleView",
            "description_width": ""
          }
        },
        "d289036821144427b95fd7330bebcf93": {
          "model_module": "@jupyter-widgets/controls",
          "model_module_version": "1.5.0",
          "model_name": "DescriptionStyleModel",
          "state": {
            "_model_module": "@jupyter-widgets/controls",
            "_model_module_version": "1.5.0",
            "_model_name": "DescriptionStyleModel",
            "_view_count": null,
            "_view_module": "@jupyter-widgets/base",
            "_view_module_version": "1.2.0",
            "_view_name": "StyleView",
            "description_width": ""
          }
        },
        "dcd400168fce4e09a0c1065c14bd02ef": {
          "model_module": "@jupyter-widgets/controls",
          "model_module_version": "1.5.0",
          "model_name": "HTMLModel",
          "state": {
            "_dom_classes": [],
            "_model_module": "@jupyter-widgets/controls",
            "_model_module_version": "1.5.0",
            "_model_name": "HTMLModel",
            "_view_count": null,
            "_view_module": "@jupyter-widgets/controls",
            "_view_module_version": "1.5.0",
            "_view_name": "HTMLView",
            "description": "",
            "description_tooltip": null,
            "layout": "IPY_MODEL_4a782038ff1d4c9183cd028109fc9c0d",
            "placeholder": "​",
            "style": "IPY_MODEL_c543daf19b7543fd9a8b8826e7f93be3",
            "value": "Pandas Apply: 100%"
          }
        }
      }
    }
  },
  "nbformat": 4,
  "nbformat_minor": 5
}
